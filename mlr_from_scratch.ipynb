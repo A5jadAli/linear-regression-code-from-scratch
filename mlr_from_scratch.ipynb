{
  "cells": [
    {
      "cell_type": "markdown",
      "metadata": {
        "id": "O6s9twlo6EZF"
      },
      "source": [
        "# **Multiple Linear Regression (Code from Scratch)**"
      ]
    },
    {
      "cell_type": "code",
      "execution_count": 1,
      "metadata": {
        "id": "GT2D-Vgw1iIe"
      },
      "outputs": [],
      "source": [
        "# Importing the necessary libraries\n",
        "import numpy as np\n",
        "\n",
        "# Loading diabetes dataset from sklearn\n",
        "from sklearn.datasets import load_diabetes"
      ]
    },
    {
      "cell_type": "code",
      "execution_count": null,
      "metadata": {
        "id": "iSFxiipb3AP3"
      },
      "outputs": [],
      "source": [
        "# Divide dataset into X (input) and y (output)\n",
        "X, y = load_diabetes(return_X_y=True)"
      ]
    },
    {
      "cell_type": "code",
      "execution_count": 4,
      "metadata": {
        "id": "zagOezqE8oFW"
      },
      "outputs": [],
      "source": [
        "# Dividing the data into train and test sets\n",
        "from sklearn.model_selection import train_test_split\n",
        "\n",
        "X_train, X_test, y_train, y_test = train_test_split(X, y, test_size=0.2, random_state=2)"
      ]
    },
    {
      "cell_type": "code",
      "execution_count": 5,
      "metadata": {
        "id": "_XMICGlK6apf"
      },
      "outputs": [],
      "source": [
        "# Linear Regression code from Scratch (It is a based on general formula code that works for Simple Linear Regression as well as Multiple Linear Regression)\n",
        "\n",
        "class MyLR:\n",
        "  \"\"\"\n",
        "  This is a class definition for a Multiple Linear Regression model. It has two attributes: `coef_` and `intercept_`.\n",
        "\n",
        "  Args:\n",
        "    None\n",
        "\n",
        "  Attributes:\n",
        "    coef_: The coefficients of the linear regression model.\n",
        "    intercept_: The intercept of the linear regression model.\n",
        "  \"\"\"\n",
        "\n",
        "  def __init__(self):\n",
        "    \"\"\"\n",
        "    This method initializes the attributes to `None`.\n",
        "\n",
        "    Args:\n",
        "      None\n",
        "\n",
        "    Returns:\n",
        "      None\n",
        "    \"\"\"\n",
        "\n",
        "    self.coef_ = None\n",
        "    self.intercept_ = None\n",
        "\n",
        "  def fit(self, X_train, y_train):\n",
        "    \"\"\"\n",
        "    This method takes two arguments: `X_train` and `y_train`. It first inserts a column of ones to the beginning of `X_train`. This is necessary because the intercept is not included in the coefficients.\n",
        "\n",
        "    Next, it calculates the coefficients using the `linalg.inv()` and `dot()` functions. The `linalg.inv()` function calculates the inverse of a matrix, and the `dot()` function calculates the dot product of two matrices.\n",
        "\n",
        "    Args:\n",
        "      X_train: The training data.\n",
        "      y_train: The target values.\n",
        "\n",
        "    Returns:\n",
        "      None\n",
        "    \"\"\"\n",
        "\n",
        "    X_train = np.insert(X_train, 0, 1, axis=1)\n",
        "\n",
        "    # calculate the coefficients\n",
        "    betas = np.linalg.inv(np.dot(X_train.T, X_train)).dot(X_train.T).dot(y_train)\n",
        "    self.intercept_ = betas[0]\n",
        "    self.coef_ = betas[1:]\n",
        "\n",
        "  def predict(self, X_test):\n",
        "    \"\"\"\n",
        "    This method takes one argument: `X_test`. It first calculates the predicted values using the `dot()` function. Then, it returns the predicted values.\n",
        "\n",
        "    Args:\n",
        "      X_test: The test data.\n",
        "\n",
        "    Returns:\n",
        "      The predicted values.\n",
        "    \"\"\"\n",
        "\n",
        "    y_pred = np.dot(X_test, self.coef_) + self.intercept_\n",
        "    return y_pred"
      ]
    },
    {
      "cell_type": "code",
      "execution_count": 6,
      "metadata": {
        "id": "lZ3KAAcD_MD0"
      },
      "outputs": [],
      "source": [
        "# Creating object of the class\n",
        "lr = MyLR()"
      ]
    },
    {
      "cell_type": "code",
      "execution_count": 7,
      "metadata": {
        "id": "zxpUDLoq_PR-"
      },
      "outputs": [],
      "source": [
        "# Train the model\n",
        "lr.fit(X_train, y_train)"
      ]
    },
    {
      "cell_type": "code",
      "execution_count": 10,
      "metadata": {
        "id": "dzki3oXf_WOA"
      },
      "outputs": [],
      "source": [
        "# Prediction\n",
        "y_pred = lr.predict(X_test)"
      ]
    },
    {
      "cell_type": "code",
      "execution_count": 11,
      "metadata": {
        "id": "DyS1mcgg_jeW"
      },
      "outputs": [],
      "source": [
        "# Evaluation of the model using R2 score\n",
        "from sklearn.metrics import r2_score\n",
        "r2_score(y_test, y_pred)"
      ]
    }
  ],
  "metadata": {
    "colab": {
      "provenance": []
    },
    "kernelspec": {
      "display_name": "Python 3",
      "name": "python3"
    },
    "language_info": {
      "codemirror_mode": {
        "name": "ipython",
        "version": 3
      },
      "file_extension": ".py",
      "mimetype": "text/x-python",
      "name": "python",
      "nbconvert_exporter": "python",
      "pygments_lexer": "ipython3",
      "version": "3.9.18"
    }
  },
  "nbformat": 4,
  "nbformat_minor": 0
}
